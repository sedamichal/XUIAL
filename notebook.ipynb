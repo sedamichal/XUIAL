{
 "cells": [
  {
   "cell_type": "code",
   "execution_count": null,
   "id": "cfcde995",
   "metadata": {},
   "outputs": [
    {
     "name": "stdout",
     "output_type": "stream",
     "text": [
      "[167. 171. 181.]\n"
     ]
    },
    {
     "ename": "error",
     "evalue": "OpenCV(4.11.0) D:\\a\\opencv-python\\opencv-python\\opencv\\modules\\imgproc\\src\\contours_new.cpp:330: error: (-2:Unspecified error) in function 'class std::shared_ptr<struct ContourScanner_> __cdecl ContourScanner_::create(class cv::Mat,int,int,class cv::Point_<int>)'\n> Modes other than RETR_FLOODFILL and RETR_CCOMP support only CV_8UC1 images (expected: 'img.type() == CV_8UC1'), where\n>     'img.type()' is 16 (CV_8UC3)\n> must be equal to\n>     'CV_8UC1' is 0 (CV_8UC1)\n",
     "output_type": "error",
     "traceback": [
      "\u001b[1;31m---------------------------------------------------------------------------\u001b[0m",
      "\u001b[1;31merror\u001b[0m                                     Traceback (most recent call last)",
      "Cell \u001b[1;32mIn[140], line 40\u001b[0m\n\u001b[0;32m     28\u001b[0m     plt\u001b[38;5;241m.\u001b[39mshow()\n\u001b[0;32m     30\u001b[0m \u001b[38;5;66;03m# show_images([img, img2])\u001b[39;00m\n\u001b[0;32m     31\u001b[0m \n\u001b[0;32m     32\u001b[0m \u001b[38;5;66;03m# img_gray = cv2.cvtColor(img_red, cv2.COLOR_BGR2GRAY)\u001b[39;00m\n\u001b[1;32m   (...)\u001b[0m\n\u001b[0;32m     37\u001b[0m \u001b[38;5;66;03m# mask_clean_g = cv2.morphologyEx(mask_g, cv2.MORPH_OPEN, kernel)\u001b[39;00m\n\u001b[0;32m     38\u001b[0m \u001b[38;5;66;03m# mask_clean_g = cv2.morphologyEx(mask_clean_g, cv2.MORPH_CLOSE, kernel)\u001b[39;00m\n\u001b[1;32m---> 40\u001b[0m contours_g, _ \u001b[38;5;241m=\u001b[39m \u001b[43mcv2\u001b[49m\u001b[38;5;241;43m.\u001b[39;49m\u001b[43mfindContours\u001b[49m\u001b[43m(\u001b[49m\u001b[43mimg2\u001b[49m\u001b[43m,\u001b[49m\u001b[43m \u001b[49m\u001b[43mcv2\u001b[49m\u001b[38;5;241;43m.\u001b[39;49m\u001b[43mRETR_CCOMP\u001b[49m\u001b[43m,\u001b[49m\u001b[43m \u001b[49m\u001b[43mcv2\u001b[49m\u001b[38;5;241;43m.\u001b[39;49m\u001b[43mCHAIN_APPROX_SIMPLE\u001b[49m\u001b[43m)\u001b[49m\n\u001b[0;32m     41\u001b[0m cv2\u001b[38;5;241m.\u001b[39mdrawContours(img, contours_g, \u001b[38;5;241m-\u001b[39m\u001b[38;5;241m1\u001b[39m, (\u001b[38;5;241m0\u001b[39m, \u001b[38;5;241m255\u001b[39m, \u001b[38;5;241m0\u001b[39m), \u001b[38;5;241m2\u001b[39m)\n\u001b[0;32m     43\u001b[0m show_images([img,img2])\n",
      "\u001b[1;31merror\u001b[0m: OpenCV(4.11.0) D:\\a\\opencv-python\\opencv-python\\opencv\\modules\\imgproc\\src\\contours_new.cpp:330: error: (-2:Unspecified error) in function 'class std::shared_ptr<struct ContourScanner_> __cdecl ContourScanner_::create(class cv::Mat,int,int,class cv::Point_<int>)'\n> Modes other than RETR_FLOODFILL and RETR_CCOMP support only CV_8UC1 images (expected: 'img.type() == CV_8UC1'), where\n>     'img.type()' is 16 (CV_8UC3)\n> must be equal to\n>     'CV_8UC1' is 0 (CV_8UC1)\n"
     ]
    }
   ],
   "source": [
    "import cv2\n",
    "import numpy as np\n",
    "import matplotlib.pyplot as plt\n",
    "\n",
    "kernel = np.ones((5, 5), np.uint8)\n",
    "\n",
    "img = cv2.imread(\"fire.jpg\", cv2.IMREAD_COLOR)\n",
    "img = cv2.GaussianBlur(img, (5, 5), 0)\n",
    "percentiles = np.percentile(img, 82, axis=(0, 1)) # type: ignore\n",
    "print(percentiles)\n",
    "\n",
    "img2 = np.zeros_like(img)\n",
    "\n",
    "for i in range(img.shape[0]):\n",
    "    for j in range(img.shape[1]):\n",
    "        # if img[i, j, 0] < img[i, j, 1] and img[i, j, 1] < img[i, j, 2] and img[i, j, 2] >= 190 and img[i, j, 1] < 180:\n",
    "        #     img2[i, j] = img[i, j]\n",
    "        if img[i, j, 0] < img[i, j, 1] and img[i, j, 1] < img[i, j, 2] and img[i, j, 2] >= percentiles[2] and img[i, j, 1] < percentiles[1]:\n",
    "            img2[i, j] = img[i, j]\n",
    "\n",
    "def show_images(images):\n",
    "    unit = 10\n",
    "    \n",
    "    _, axs = plt.subplots(1, len(images), figsize=(len(images) * unit, unit))\n",
    "    for i in range(len(images)):\n",
    "        axs[i].axis('off')\n",
    "        axs[i].imshow(cv2.cvtColor(images[i], cv2.COLOR_BGR2RGB))\n",
    "    plt.show()\n",
    "    \n",
    "# show_images([img, img2])\n",
    "\n",
    "# img_gray = cv2.cvtColor(img_red, cv2.COLOR_BGR2GRAY)\n",
    "# img_ = np.zeros_like(img_gray) + 255\n",
    "\n",
    "# img_blurred_g = cv2.GaussianBlur(img_gray, (3, 3), 0)\n",
    "# _, mask_g = cv2.threshold(img_blurred_g, 200, 255, cv2.THRESH_BINARY)\n",
    "# mask_clean_g = cv2.morphologyEx(mask_g, cv2.MORPH_OPEN, kernel)\n",
    "# mask_clean_g = cv2.morphologyEx(mask_clean_g, cv2.MORPH_CLOSE, kernel)\n",
    "\n",
    "contours_g, _ = cv2.findContours(img2, cv2.RETR_CCOMP, cv2.CHAIN_APPROX_SIMPLE)\n",
    "cv2.drawContours(img, contours_g, -1, (0, 255, 0), 2)\n",
    "\n",
    "show_images([img,img2])"
   ]
  }
 ],
 "metadata": {
  "kernelspec": {
   "display_name": ".XUIAL310",
   "language": "python",
   "name": "python3"
  },
  "language_info": {
   "codemirror_mode": {
    "name": "ipython",
    "version": 3
   },
   "file_extension": ".py",
   "mimetype": "text/x-python",
   "name": "python",
   "nbconvert_exporter": "python",
   "pygments_lexer": "ipython3",
   "version": "3.10.9"
  }
 },
 "nbformat": 4,
 "nbformat_minor": 5
}
